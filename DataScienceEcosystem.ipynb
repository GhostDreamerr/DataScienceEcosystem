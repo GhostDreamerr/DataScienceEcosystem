{
 "cells": [
  {
   "cell_type": "markdown",
   "id": "8d46c121-91ac-4bc7-8d86-2cda2ade10a6",
   "metadata": {},
   "source": [
    "# Data Science Tools and Ecosystem"
   ]
  },
  {
   "cell_type": "markdown",
   "id": "cce67ec6-53be-43e1-bf37-7344c0cc10f2",
   "metadata": {},
   "source": [
    "In this notebook, Data Science Tools and Ecosystem are summarized."
   ]
  },
  {
   "cell_type": "markdown",
   "id": "c4bc85e3-301f-4b19-909f-fc74df9b2555",
   "metadata": {},
   "source": [
    "## Objectives:\n",
    "* List popular languages for Data Science.\n",
    "* List commonly used libraries used by Data Science.\n",
    "* List popular Data Science tools.\n",
    "* How to make a listing in the cell."
   ]
  },
  {
   "cell_type": "markdown",
   "id": "399fdb07-68cb-4e9e-9a1d-b716cb0f047d",
   "metadata": {},
   "source": [
    "Some of the popular languages that Data Scientists use are:\n",
    "1. Python\n",
    "2. R\n",
    "3. Julia\n",
    "4. SQL etc."
   ]
  },
  {
   "cell_type": "markdown",
   "id": "759128ca-3c9b-4fe8-bf16-a731d0ecc8bc",
   "metadata": {},
   "source": [
    "Some of the commonly used libraries used by Data Scientists include:\n",
    "1. TensorFlow\n",
    "2. Scikit-learn\n",
    "3. Pandas\n",
    "4. Keras\n",
    "5. NumPy etc."
   ]
  },
  {
   "cell_type": "markdown",
   "id": "56ede2fa-fd6b-4ea5-82a2-b52498f24eb8",
   "metadata": {},
   "source": [
    "| Data Science Tools|\n",
    "|---|\n",
    "|Hadoop|\n",
    "|TensorFlow|\n",
    "|PyTorch|"
   ]
  },
  {
   "cell_type": "markdown",
   "id": "f8ad4c2b-d78b-458d-ad1a-eb3a60d6d2e3",
   "metadata": {},
   "source": [
    "### Below are a few examples of evaluating arithmetic expressions in Python"
   ]
  },
  {
   "cell_type": "code",
   "execution_count": 2,
   "id": "c7804b96-faff-4051-ad78-fecdcb6a61ed",
   "metadata": {},
   "outputs": [
    {
     "data": {
      "text/plain": [
       "17"
      ]
     },
     "execution_count": 2,
     "metadata": {},
     "output_type": "execute_result"
    }
   ],
   "source": [
    "# This a simple arithmetic expression to mutiply then add integers\n",
    "(3*4)+5"
   ]
  },
  {
   "cell_type": "code",
   "execution_count": 3,
   "id": "8c1c4a08-9c48-4f3d-90f0-6a43969b0173",
   "metadata": {},
   "outputs": [
    {
     "data": {
      "text/plain": [
       "3.3333333333333335"
      ]
     },
     "execution_count": 3,
     "metadata": {},
     "output_type": "execute_result"
    }
   ],
   "source": [
    "# This will convert 200 minutes to hours by diving by 60\n",
    "200/60"
   ]
  },
  {
   "cell_type": "markdown",
   "id": "a74442a6-e40e-4e89-a6cd-cf7718f5d18b",
   "metadata": {},
   "source": [
    "## Author\n",
    "Fatmanur Yiğit"
   ]
  }
 ],
 "metadata": {
  "kernelspec": {
   "display_name": "Python 3 (ipykernel)",
   "language": "python",
   "name": "python3"
  },
  "language_info": {
   "codemirror_mode": {
    "name": "ipython",
    "version": 3
   },
   "file_extension": ".py",
   "mimetype": "text/x-python",
   "name": "python",
   "nbconvert_exporter": "python",
   "pygments_lexer": "ipython3",
   "version": "3.12.1"
  }
 },
 "nbformat": 4,
 "nbformat_minor": 5
}
